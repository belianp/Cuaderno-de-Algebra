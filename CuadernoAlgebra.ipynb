{
  "cells": [
    {
      "cell_type": "markdown",
      "metadata": {
        "id": "view-in-github",
        "colab_type": "text"
      },
      "source": [
        "<a href=\"https://colab.research.google.com/github/belianp/Cuaderno-de-Algebra/blob/main/CuadernoAlgebra.ipynb\" target=\"_parent\"><img src=\"https://colab.research.google.com/assets/colab-badge.svg\" alt=\"Open In Colab\"/></a>"
      ]
    },
    {
      "cell_type": "markdown",
      "source": [
        "# Algebra\n",
        "Cuaderno de algebra"
      ],
      "metadata": {
        "id": "AIh0boKp9bkJ"
      },
      "id": "AIh0boKp9bkJ"
    },
    {
      "cell_type": "markdown",
      "metadata": {
        "id": "A8cIN17i-WUd"
      },
      "source": [
        "## Matrices\n"
      ],
      "id": "A8cIN17i-WUd"
    },
    {
      "cell_type": "markdown",
      "source": [
        "##Definicion\n",
        "Las matrices son un conjunto bidimensional de números o símbolos distribuidos de forma rectangular, en líneas verticales y horizontales, de manera que sus elementos se organizan en filas y columnas. Sirven para describir sistemas de ecuaciones lineales o diferenciales, así como para representar una aplicación lineal. \n",
        "\n",
        "Toda matriz se representa por medio de una letra mayúscula, y sus elementos se reúnen entre dos paréntesis o corchetes, en letra minúscula. A su vez, tienen doble superíndice: el primero hace referencia a la fila y el segundo a la columna a la que pertenece. \n",
        "\n",
        "Esta expresión matemática puede sumarse, multiplicarse y descomponerse, por lo que su uso es común en el álgebra lineal.  "
      ],
      "metadata": {
        "id": "LFZf9djs-oh3"
      },
      "id": "LFZf9djs-oh3"
    },
    {
      "cell_type": "markdown",
      "source": [
        "##Suma de dos matrices\n",
        "\n",
        "Usamos + el operador para agregar los elementos correspondientes de dos matrices NumPy.\n",
        "\n",
        "```python \n",
        "import numpy as np\n",
        "\n",
        "A = np.array([[2, 4], [5, -6]])\n",
        "B = np.array([[9, -3], [3, 6]])\n",
        "C = A + B      # element wise addition\n",
        "print(C)\n",
        "\n",
        "Output:\n",
        "[[11  1]\n",
        " [ 8  0]]\n",
        "```"
      ],
      "metadata": {
        "id": "3LU6mcgPArd-"
      },
      "id": "3LU6mcgPArd-"
    },
    {
      "cell_type": "markdown",
      "source": [
        "##Multiplicación de dos matrices\n",
        "\n",
        "Para multiplicar dos matrices, usamos dot() el método. Obtén más información sobre cómo funciona numpy.dot .\n",
        "\n",
        "Nota: * se utiliza para la multiplicación de matrices (multiplicación de los elementos correspondientes de dos matrices), no para la multiplicación de matrices.\n",
        "\n",
        "```python \n",
        "import numpy as np\n",
        "\n",
        "A = np.array([[3, 6, 7], [5, -3, 0]])\n",
        "B = np.array([[1, 1], [2, 1], [3, -3]])\n",
        "C = A.dot(B)\n",
        "print(C)\n",
        "\n",
        "Output:\n",
        "[[ 36 -12]\n",
        " [ -1   2]]\n",
        "```\n"
      ],
      "metadata": {
        "id": "HgqjV2l0BDR2"
      },
      "id": "HgqjV2l0BDR2"
    },
    {
      "cell_type": "markdown",
      "source": [
        "##Transposición de una matriz\n",
        "\n",
        "Usamos numpy.transpose para calcular la transposición de una matriz.\n",
        "\n",
        "```python \n",
        "import numpy as np\n",
        "\n",
        "A = np.array([[1, 1], [2, 1], [3, -3]])\n",
        "print(A.transpose())\n",
        "\n",
        "Output:\n",
        "[[ 1  2  3]\n",
        " [ 1  1 -3]]\n",
        "```"
      ],
      "metadata": {
        "id": "vSciYyBgBRfV"
      },
      "id": "vSciYyBgBRfV"
    },
    {
      "cell_type": "markdown",
      "source": [
        "#Acceder a elementos de matriz, filas y columnas.\n",
        "##Elementos de la matriz \n",
        "\n",
        "De manera similar a las listas, podemos acceder a los elementos de la matriz usando index. Comencemos con una matriz NumPy unidimensional.\n",
        "\n",
        "```python \n",
        "import numpy as np\n",
        "A = np.array([2, 4, 6, 8, 10])\n",
        "\n",
        "print(\"A[0] =\", A[0])     # First element     \n",
        "print(\"A[2] =\", A[2])     # Third element \n",
        "print(\"A[-1] =\", A[-1])   # Last element     \n",
        "Cuando ejecute el programa, la salida será:\n",
        "\n",
        "A[0] = 2\n",
        "A[2] = 6\n",
        "A[-1] = 10\n",
        "```\n",
        "\n",
        "Ahora, veamos cómo podemos acceder a los elementos de un arreglo bidimensional (que es básicamente una matriz).\n",
        "\n",
        "```python \n",
        "import numpy as np\n",
        "\n",
        "A = np.array([[1, 4, 5, 12],\n",
        "    [-5, 8, 9, 0],\n",
        "    [-6, 7, 11, 19]])\n",
        "\n",
        "#  First element of first row\n",
        "print(\"A[0][0] =\", A[0][0])  \n",
        "\n",
        "# Third element of second row\n",
        "print(\"A[1][2] =\", A[1][2])\n",
        "\n",
        "# Last element of last row\n",
        "print(\"A[-1][-1] =\", A[-1][-1]) \n",
        "```\n",
        "\n",
        "Cuando ejecutamos el programa, la salida será:\n",
        "\n",
        "```python \n",
        "A[0][0] = 1\n",
        "A[1][2] = 9\n",
        "A[-1][-1] = 19\n",
        "```\n",
        "\n",
        "Filas de acceso de una matriz\n",
        "\n",
        "```python \n",
        "import numpy as np\n",
        "\n",
        "A = np.array([[1, 4, 5, 12], \n",
        "    [-5, 8, 9, 0],\n",
        "    [-6, 7, 11, 19]])\n",
        "\n",
        "print(\"A[0] =\", A[0]) # First Row\n",
        "print(\"A[2] =\", A[2]) # Third Row\n",
        "print(\"A[-1] =\", A[-1]) # Last Row (3rd row in this case)\n",
        "```\n",
        "\n",
        "Cuando ejecutamos el programa, la salida será:\n",
        "\n",
        "```python \n",
        "A[0] = [1, 4, 5, 12]\n",
        "A[2] = [-6, 7, 11, 19]\n",
        "A[-1] = [-6, 7, 11, 19]\n",
        "```\n",
        "Acceder a las columnas de una Matriz\n",
        "\n",
        "```python \n",
        "import numpy as np\n",
        "\n",
        "A = np.array([[1, 4, 5, 12], \n",
        "    [-5, 8, 9, 0],\n",
        "    [-6, 7, 11, 19]])\n",
        "\n",
        "print(\"A[:,0] =\",A[:,0]) # First Column\n",
        "print(\"A[:,3] =\", A[:,3]) # Fourth Column\n",
        "print(\"A[:,-1] =\", A[:,-1]) # Last Column (4th column in this case)\n",
        "```\n",
        "Cuando ejecutamos el programa, la salida será:\n",
        "\n",
        "```python \n",
        "A[:,0] = [ 1 -5 -6]\n",
        "A[:,3] = [12 0 19]\n",
        "A[:,-1] = [12 0 19]\n",
        "```\n"
      ],
      "metadata": {
        "id": "50YeeisxBqzF"
      },
      "id": "50YeeisxBqzF"
    },
    {
      "cell_type": "markdown",
      "source": [
        "# Tipos de Matrices\n",
        "\n",
        "## Nula\n",
        "Matriz cuyos elementos son cero\n",
        "\n",
        "\\begin{bmatrix}\n",
        "0 & 0\\\\\n",
        "0 & 0\n",
        "\\end{bmatrix}\n",
        "\n",
        "## Identidad\n",
        "\n",
        "Si $a_{ij}$ = 0 , $\\forall_{ij} \\neq j \\ \\land $ $a_{ij}$ = 1 , $\\forall_{ij} = j$\n",
        "\n",
        "Entonces A se llama I\n",
        "\n",
        "Ej:\n",
        "\n",
        "\\begin{bmatrix}\n",
        "1 & 0 & 0\\\\\n",
        "0 & 1 & 0\\\\\n",
        "0 & 0 & 1\n",
        "\\end{bmatrix}\n",
        "\n",
        "## Matriz Diagonal\n",
        "\n",
        "$a_{ij}$ = 0 , $\\forall_{i} \\neq j$\n",
        "\\begin{bmatrix}\n",
        "0 & 0 & 0\\\\\n",
        "0 & 2 & 0\\\\\n",
        "0 & 0 & 1\n",
        "\\end{bmatrix}\n",
        "\n",
        "## Matriz Triangulo Superior\n",
        "\n",
        "Si $a_{ij} = 0, \\forall_{i} > j $\n",
        "\n",
        "Ej:\n",
        "\n",
        "\\begin{bmatrix}\n",
        "1 & 3 & 2\\\\\n",
        "0 & 2 & 4\\\\\n",
        "0 & 0 & 1\\\\\n",
        "\\end{bmatrix}\n",
        "\n",
        "## Matriz Triangulo Inferior\n",
        "\n",
        "Si $a_{ij} = 0, \\forall_{i} < j$\n",
        "\n",
        "\\begin{bmatrix}\n",
        "1 & 0 & 0\\\\\n",
        "5 & 7 & 0\\\\\n",
        "7 & 6 & 2\n",
        "\\end{bmatrix}\n",
        "\n",
        "## Matriz Simétrica\n",
        "\n",
        "Si $A = A^T$ entonces $A$ se llama simétrica\n",
        "\n",
        "Ej:\n",
        "$A=$\n",
        "$\\begin{bmatrix}\n",
        "1 & 2\\\\\n",
        "2 & 7\n",
        "\\end{bmatrix}$\n",
        "\n",
        "\n",
        "$A^T=$\n",
        "$\\begin{bmatrix}\n",
        "1 & 2\\\\\n",
        "2 & 7\n",
        "\\end {bmatrix}$"
      ],
      "metadata": {
        "id": "jZ9DteBsIoeQ"
      },
      "id": "jZ9DteBsIoeQ"
    },
    {
      "cell_type": "markdown",
      "source": [
        "## Python Code\n",
        "```python \n",
        "#Importamos la libreria numpy\n",
        "import numpy as np\n",
        "\n",
        "A = np.array([[1, 2, 3], [3, 4, 5]])\n",
        "print(A)\n",
        "\n",
        "A = np.array([[1.1, 2, 3], [3, 4, 5]]) # Array of floats\n",
        "print(A)\n",
        "\n",
        "A = np.array([[1, 2, 3], [3, 4, 5]], dtype = complex) # Array of complex numbers\n",
        "print(A)\n",
        "```"
      ],
      "metadata": {
        "id": "inNIXfiD_HE3"
      },
      "id": "inNIXfiD_HE3"
    },
    {
      "cell_type": "code",
      "source": [
        "import numpy as np\n",
        "\n",
        "# Los vectores linealmente independientes (En este ejemplo, tenemos 3 vectores en un espacio 3-dimensional)\n",
        "v1 = np.array([1, 2, 2])\n",
        "v2 = np.array([4, 5, 6])\n",
        "v3 = np.array([7, 8, 9])\n",
        "\n",
        "# El vector que queremos expresar como una combinación lineal de vectores independientes ((0,0,0))\n",
        "target = np.array([0, 0, 0])\n",
        "\n",
        "#Creamos una matriz con los vectores independientes como columnas\n",
        "matrix = np.column_stack((v1, v2, v3))\n",
        "\n",
        "#Resolvemos el sistema lineal para encontrar los coeficientes\n",
        "coefficients = np.linalg.solve(matrix, target)\n",
        "\n",
        "print(\"Coefficients:\", coefficients)\n"
      ],
      "metadata": {
        "colab": {
          "base_uri": "https://localhost:8080/"
        },
        "id": "k9qgs8wqAMX2",
        "outputId": "e8e76c94-c8e8-488f-c27b-3309d1a358ff"
      },
      "id": "k9qgs8wqAMX2",
      "execution_count": null,
      "outputs": [
        {
          "output_type": "stream",
          "name": "stdout",
          "text": [
            "Coefficients: [ 0.  0. -0.]\n"
          ]
        }
      ]
    },
    {
      "cell_type": "markdown",
      "source": [
        "#Determinante\n",
        "El determinante de una matriz cuadrada es un número que se obtiene como resultado de realizar una serie de operaciones con sus elementos. De este valor se pueden deducir importantes propiedades de los elementos que lo componen. Tiene, además, muchas aplicaciones en la Geometría y el Álgebra."
      ],
      "metadata": {
        "id": "SX6cvCtPEYsc"
      },
      "id": "SX6cvCtPEYsc"
    },
    {
      "cell_type": "markdown",
      "source": [
        "Calcular determinantes en Python\n",
        "\n",
        "Usamos Numpy para calcular los determinantes en Python. Veamos un ejercicio en el que vamos a calcular el determinante de la siguiente matriz A: A = (9)\n",
        "\n",
        "Como es lógico, el determinante de dicha matriz A de orden 1 va a ser el único valor que contiene dicha matriz.\n",
        "\n",
        "```python \n",
        "#determinantes en Python\n",
        "import numpy as np\n",
        "\n",
        "A = np.array ([[9]])\n",
        "print (A.shape)\n",
        "\n",
        "print (np.linalg.det (A))\n",
        "(1, 1)\n",
        "\n",
        "9.0000000000000002\n",
        "```\n",
        "Ese residuo infinitesimal es un redondeo de las operaciones en bytes."
      ],
      "metadata": {
        "id": "eV-De6UxFIGj"
      },
      "id": "eV-De6UxFIGj"
    },
    {
      "cell_type": "markdown",
      "source": [
        "##Propiedades de la función determinante\n",
        "Las propiedades de los determinantes\n",
        "\n",
        "Posee dos filas (o columnas) iguales. Todos los elementos de una fila (o una columna) son nulos. Los elementos de una fila (o una columna) son combinación lineal de las otras. 3 Un determinante triangular es igual al producto de los elementos de la diagonal principal."
      ],
      "metadata": {
        "id": "rP8zczhYFviD"
      },
      "id": "rP8zczhYFviD"
    },
    {
      "cell_type": "markdown",
      "source": [
        "##Desarrollo del Teorema de Laplace\n",
        "El teorema afirma que el determinante de una matriz es igual a la suma de los productos de cada elemento (de un renglón o columna) por la determinante de su matriz adjunta, lo que reduce un determinante de dimensión n a n determinantes de dimensión n-1."
      ],
      "metadata": {
        "id": "a2Zy_xdTGEO6"
      },
      "id": "a2Zy_xdTGEO6"
    },
    {
      "cell_type": "markdown",
      "source": [
        "##Cálculo de determinantes por el método de Sarrus\n",
        "La regla de Sarrus es un método que te permite calcular el determinante de una matriz de orden 3 más fácilmente. En este método, las primeras columnas de la matriz se repiten al final y se realiza una multiplicación de diagonales para obtener el determinante."
      ],
      "metadata": {
        "id": "7EIp8m07GLpJ"
      },
      "id": "7EIp8m07GLpJ"
    },
    {
      "cell_type": "markdown",
      "source": [
        "#Aplicación de determinantes para cálculo del rango de una matriz\n",
        "\n",
        "##Rango de una matriz\n",
        " \n",
        "\n",
        "El rango de una matriz es el número de filas (o columnas) linealmente independientes. Utilizando esta definición se puede calcular usando el método de Gauss.\n",
        "\n",
        "También, podemos decir que el rango de una matriz es el orden de la mayor submatriz cuadrada no nula. Utilizando esta definición se puede calcular el rango usando determinantes.\n",
        "\n",
        "A este número se le conoce simplemente como rango de A (matriz A), y se denota por rang (A).\n",
        "\n",
        "##Calcular rango de una matriz por determinantes\n",
        " \n",
        "\n",
        "En general, como el rango es el orden de la mayor submatriz cuadrada no nula, los pasos a seguir para el cálculo del rango por determinantes son:\n",
        "\n",
        " 1  Descartamos las filas (o columnas) que cumplan con alguna de las condiciones:\n",
        "\n",
        " \n",
        "\n",
        "Todos sus coeficientes son ceros.\n",
        "\n",
        "Hay dos filas (o columnas) iguales.\n",
        "\n",
        "Una fila (o columna) es proporcional a otra.\n",
        "\n",
        "Una fila (o columna) es combinación lineal de otras.\n",
        "\n",
        " \n",
        "\n",
        " 2  Si al menos un elemento de la matriz no es cero su determinante no será nulo y, por tanto, el rango será mayor o igual a 1.\n",
        "\n",
        " \n",
        "\n",
        " 3  El rango será mayor o igual a 2 si existe alguna submatriz cuadrada de orden 2, tal que su determinante no sea nulo.\n",
        "\n",
        " \n",
        "\n",
        " 4  El rango será mayor o igual a 3 si existe alguna submatriz cuadrada de orden 3, tal que su determinante no sea nulo.\n",
        "\n",
        " \n",
        "\n",
        " 5 El rango será mayor o igual a 4 si existe alguna submatriz cuadrada de orden\n",
        "\n",
        "4, tal que su determinante no sea nulo.\n",
        "\n",
        " \n",
        "\n",
        "De este mismo modo se trabaja para comprobar si tiene rango superior a 4, hasta que la submatriz (o las submatrices) del mayor orden posible tenga (o tengan) determinante nulo."
      ],
      "metadata": {
        "id": "_zDEaCg2GLwC"
      },
      "id": "_zDEaCg2GLwC"
    },
    {
      "cell_type": "markdown",
      "source": [
        "##Aplicación de determinantes para cálculo de la matriz inversa\n",
        "\n",
        "Definición de inversa de una matriz\n",
        " \n",
        "\n",
        "Se dice que una matriz cuadrada  A  es invertible si existe una matriz  B  con la propiedad de que\n",
        "\n",
        "   $$ A B = B A = I $$ \n",
        "\n",
        "donde  I  es la matriz identidad . La matriz  B  es única, la llamamos la inversa de  A  y la denotamos por  A^{-1}.  Esto es,\n",
        "\n",
        "   $$ A A^{-1} =A^{-1} A = I. $$ \n",
        "\n",
        " \n",
        "\n",
        "Observación importante: Una matriz es invertible si y sólo si su determinante es distinto de cero. Esto es, una matriz tiene inversa si su determinante es no cero."
      ],
      "metadata": {
        "id": "cyYBSnkXHFBZ"
      },
      "id": "cyYBSnkXHFBZ"
    },
    {
      "cell_type": "markdown",
      "id": "84a04f1a-cbf7-4e42-9e15-19f303d44654",
      "metadata": {
        "id": "84a04f1a-cbf7-4e42-9e15-19f303d44654"
      },
      "source": [
        "# Independencia Lineal "
      ]
    },
    {
      "cell_type": "markdown",
      "id": "fec2a5d8-3b2b-48be-9181-dd8a70aff7ca",
      "metadata": {
        "id": "fec2a5d8-3b2b-48be-9181-dd8a70aff7ca"
      },
      "source": [
        "## Definición\n",
        "Sea $S = \\{\\textbf{v}_1, \\textbf{v}_2, ...., \\textbf{v}_n \\}$ un conjunto no vacío de vectores. \n",
        "\n",
        "a) Suponga que:\n",
        "\n",
        "$ \\alpha_1 \\textbf{v}_1 + \\alpha_2 \\textbf{v}_2+......+\\alpha_2 \\textbf{v}_n  = \\textbf{0}$ \n",
        "\n",
        "implica que $ \\alpha_1 = \\alpha_2 = ....=\\alpha_n$. Se dice entonces que $\\textbf{S}$ es ***linealmente independiente***\n",
        "\n",
        "b) Un conjunto que no es linealmente independiente se llama ***linealmente dependiente***; análogamente,  $\\textbf{S}$ es linealmente dependiente si y solo si hay escalares $ \\alpha_1 = \\alpha_2 = ....=\\alpha_n$ **NO** todos cero, tales que\n",
        "\n",
        "$ \\alpha_1 \\textbf{v}_1 + \\alpha_2 \\textbf{v}_2+......+\\alpha_2 \\textbf{v}_n  = \\textbf{0}$ "
      ]
    },
    {
      "cell_type": "markdown",
      "id": "55aa3498-cf44-4f50-84fe-4fa3c2167083",
      "metadata": {
        "id": "55aa3498-cf44-4f50-84fe-4fa3c2167083"
      },
      "source": [
        "## Python Code\n",
        "```python \n",
        "#Importamos la libreria numpy\n",
        "import numpy as np\n",
        "\n",
        "# Los vectores linealmente independientes (En este ejemplo, tenemos 3 vectores en un espacio 3-dimensional)\n",
        "v1 = np.array([1, 2, 2])\n",
        "v2 = np.array([4, 5, 6])\n",
        "v3 = np.array([7, 8, 9])\n",
        "\n",
        "# El vector que queremos expresar como una combinación lineal de vectores independientes ((0,0,0))\n",
        "target = np.array([0, 0, 0])\n",
        "\n",
        "#Creamos una matriz con los vectores independientes como columnas\n",
        "matrix = np.column_stack((v1, v2, v3))\n",
        "\n",
        "#Resolvemos el sistema lineal para encontrar los coeficientes\n",
        "coefficients = np.linalg.solve(matrix, target)\n",
        "\n",
        "print(\"Coefficients:\", coefficients)\n",
        "```\n"
      ]
    },
    {
      "cell_type": "code",
      "execution_count": null,
      "id": "26a2ae85-9ec6-4f8e-9c12-9048b2b10a4d",
      "metadata": {
        "id": "26a2ae85-9ec6-4f8e-9c12-9048b2b10a4d",
        "outputId": "a6ff12c3-681c-401c-f77a-84de01785170"
      },
      "outputs": [
        {
          "name": "stdout",
          "output_type": "stream",
          "text": [
            "Coefficients: [ 0.  0. -0.]\n"
          ]
        }
      ],
      "source": [
        "#Importamos la libreria numpy\n",
        "import numpy as np\n",
        "\n",
        "# Los vectores linealmente independientes (En este ejemplo, tenemos 3 vectores en un espacio 3-dimensional)\n",
        "v1 = np.array([1, 2, 2])\n",
        "v2 = np.array([4, 5, 6])\n",
        "v3 = np.array([7, 8, 9])\n",
        "\n",
        "# El vector que queremos expresar como una combinación lineal de vectores independientes ((0,0,0))\n",
        "target = np.array([0, 0, 0])\n",
        "\n",
        "#Creamos una matriz con los vectores independientes como columnas\n",
        "matrix = np.column_stack((v1, v2, v3))\n",
        "\n",
        "#Resolvemos el sistema lineal para encontrar los coeficientes\n",
        "coefficients = np.linalg.solve(matrix, target)\n",
        "\n",
        "print(\"Coefficients:\", coefficients)\n",
        "\n"
      ]
    },
    {
      "cell_type": "markdown",
      "id": "3d0d6bba-5723-4d5d-be9b-68d5e5a49e51",
      "metadata": {
        "id": "3d0d6bba-5723-4d5d-be9b-68d5e5a49e51"
      },
      "source": [
        "## Ejercicios"
      ]
    }
  ],
  "metadata": {
    "kernelspec": {
      "display_name": "Python 3 (ipykernel)",
      "language": "python",
      "name": "python3"
    },
    "language_info": {
      "codemirror_mode": {
        "name": "ipython",
        "version": 3
      },
      "file_extension": ".py",
      "mimetype": "text/x-python",
      "name": "python",
      "nbconvert_exporter": "python",
      "pygments_lexer": "ipython3",
      "version": "3.9.15"
    },
    "colab": {
      "provenance": [],
      "include_colab_link": true
    }
  },
  "nbformat": 4,
  "nbformat_minor": 5
}