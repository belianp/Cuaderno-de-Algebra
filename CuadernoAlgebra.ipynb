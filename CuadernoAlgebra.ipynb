{
  "cells": [
    {
      "cell_type": "markdown",
      "metadata": {
        "id": "view-in-github",
        "colab_type": "text"
      },
      "source": [
        "<a href=\"https://colab.research.google.com/github/belianp/Cuaderno-de-Algebra/blob/main/CuadernoAlgebra.ipynb\" target=\"_parent\"><img src=\"https://colab.research.google.com/assets/colab-badge.svg\" alt=\"Open In Colab\"/></a>"
      ]
    },
    {
      "cell_type": "markdown",
      "source": [
        "# Algebra\n",
        "Cuaderno de algebra"
      ],
      "metadata": {
        "id": "AIh0boKp9bkJ"
      },
      "id": "AIh0boKp9bkJ"
    },
    {
      "cell_type": "markdown",
      "metadata": {
        "id": "A8cIN17i-WUd"
      },
      "source": [
        "## Matrices\n"
      ],
      "id": "A8cIN17i-WUd"
    },
    {
      "cell_type": "markdown",
      "source": [
        "##Definicion\n",
        "Las matrices son un conjunto bidimensional de números o símbolos distribuidos de forma rectangular, en líneas verticales y horizontales, de manera que sus elementos se organizan en filas y columnas. Sirven para describir sistemas de ecuaciones lineales o diferenciales, así como para representar una aplicación lineal. \n",
        "\n",
        "Toda matriz se representa por medio de una letra mayúscula, y sus elementos se reúnen entre dos paréntesis o corchetes, en letra minúscula. A su vez, tienen doble superíndice: el primero hace referencia a la fila y el segundo a la columna a la que pertenece. \n",
        "\n",
        "Esta expresión matemática puede sumarse, multiplicarse y descomponerse, por lo que su uso es común en el álgebra lineal.  "
      ],
      "metadata": {
        "id": "LFZf9djs-oh3"
      },
      "id": "LFZf9djs-oh3"
    },
    {
      "cell_type": "markdown",
      "source": [
        "##Suma de dos matrices\n",
        "\n",
        "Usamos + el operador para agregar los elementos correspondientes de dos matrices NumPy.\n",
        "\n",
        "```python \n",
        "import numpy as np\n",
        "\n",
        "A = np.array([[2, 4], [5, -6]])\n",
        "B = np.array([[9, -3], [3, 6]])\n",
        "C = A + B      # element wise addition\n",
        "print(C)\n",
        "\n",
        "Output:\n",
        "[[11  1]\n",
        " [ 8  0]]\n",
        "```"
      ],
      "metadata": {
        "id": "3LU6mcgPArd-"
      },
      "id": "3LU6mcgPArd-"
    },
    {
      "cell_type": "markdown",
      "source": [
        "##Multiplicación de dos matrices\n",
        "\n",
        "Para multiplicar dos matrices, usamos dot() el método. Obtén más información sobre cómo funciona numpy.dot .\n",
        "\n",
        "Nota: * se utiliza para la multiplicación de matrices (multiplicación de los elementos correspondientes de dos matrices), no para la multiplicación de matrices.\n",
        "\n",
        "```python \n",
        "import numpy as np\n",
        "\n",
        "A = np.array([[3, 6, 7], [5, -3, 0]])\n",
        "B = np.array([[1, 1], [2, 1], [3, -3]])\n",
        "C = A.dot(B)\n",
        "print(C)\n",
        "\n",
        "Output:\n",
        "[[ 36 -12]\n",
        " [ -1   2]]\n",
        "```\n"
      ],
      "metadata": {
        "id": "HgqjV2l0BDR2"
      },
      "id": "HgqjV2l0BDR2"
    },
    {
      "cell_type": "markdown",
      "source": [
        "##Transposición de una matriz\n",
        "\n",
        "Usamos numpy.transpose para calcular la transposición de una matriz.\n",
        "\n",
        "```python \n",
        "import numpy as np\n",
        "\n",
        "A = np.array([[1, 1], [2, 1], [3, -3]])\n",
        "print(A.transpose())\n",
        "\n",
        "Output:\n",
        "[[ 1  2  3]\n",
        " [ 1  1 -3]]\n",
        "```"
      ],
      "metadata": {
        "id": "vSciYyBgBRfV"
      },
      "id": "vSciYyBgBRfV"
    },
    {
      "cell_type": "markdown",
      "source": [
        "#Acceder a elementos de matriz, filas y columnas.\n",
        "##Elementos de la matriz \n",
        "\n",
        "De manera similar a las listas, podemos acceder a los elementos de la matriz usando index. Comencemos con una matriz NumPy unidimensional.\n",
        "\n",
        "```python \n",
        "import numpy as np\n",
        "A = np.array([2, 4, 6, 8, 10])\n",
        "\n",
        "print(\"A[0] =\", A[0])     # First element     \n",
        "print(\"A[2] =\", A[2])     # Third element \n",
        "print(\"A[-1] =\", A[-1])   # Last element     \n",
        "Cuando ejecute el programa, la salida será:\n",
        "\n",
        "A[0] = 2\n",
        "A[2] = 6\n",
        "A[-1] = 10\n",
        "```\n",
        "\n",
        "Ahora, veamos cómo podemos acceder a los elementos de un arreglo bidimensional (que es básicamente una matriz).\n",
        "\n",
        "```python \n",
        "import numpy as np\n",
        "\n",
        "A = np.array([[1, 4, 5, 12],\n",
        "    [-5, 8, 9, 0],\n",
        "    [-6, 7, 11, 19]])\n",
        "\n",
        "#  First element of first row\n",
        "print(\"A[0][0] =\", A[0][0])  \n",
        "\n",
        "# Third element of second row\n",
        "print(\"A[1][2] =\", A[1][2])\n",
        "\n",
        "# Last element of last row\n",
        "print(\"A[-1][-1] =\", A[-1][-1]) \n",
        "```\n",
        "\n",
        "Cuando ejecutamos el programa, la salida será:\n",
        "\n",
        "```python \n",
        "A[0][0] = 1\n",
        "A[1][2] = 9\n",
        "A[-1][-1] = 19\n",
        "```\n",
        "\n",
        "Filas de acceso de una matriz\n",
        "\n",
        "```python \n",
        "import numpy as np\n",
        "\n",
        "A = np.array([[1, 4, 5, 12], \n",
        "    [-5, 8, 9, 0],\n",
        "    [-6, 7, 11, 19]])\n",
        "\n",
        "print(\"A[0] =\", A[0]) # First Row\n",
        "print(\"A[2] =\", A[2]) # Third Row\n",
        "print(\"A[-1] =\", A[-1]) # Last Row (3rd row in this case)\n",
        "```\n",
        "\n",
        "Cuando ejecutamos el programa, la salida será:\n",
        "\n",
        "```python \n",
        "A[0] = [1, 4, 5, 12]\n",
        "A[2] = [-6, 7, 11, 19]\n",
        "A[-1] = [-6, 7, 11, 19]\n",
        "```\n",
        "Acceder a las columnas de una Matriz\n",
        "\n",
        "```python \n",
        "import numpy as np\n",
        "\n",
        "A = np.array([[1, 4, 5, 12], \n",
        "    [-5, 8, 9, 0],\n",
        "    [-6, 7, 11, 19]])\n",
        "\n",
        "print(\"A[:,0] =\",A[:,0]) # First Column\n",
        "print(\"A[:,3] =\", A[:,3]) # Fourth Column\n",
        "print(\"A[:,-1] =\", A[:,-1]) # Last Column (4th column in this case)\n",
        "```\n",
        "Cuando ejecutamos el programa, la salida será:\n",
        "\n",
        "```python \n",
        "A[:,0] = [ 1 -5 -6]\n",
        "A[:,3] = [12 0 19]\n",
        "A[:,-1] = [12 0 19]\n",
        "```\n"
      ],
      "metadata": {
        "id": "50YeeisxBqzF"
      },
      "id": "50YeeisxBqzF"
    },
    {
      "cell_type": "markdown",
      "source": [
        "## Python Code\n",
        "```python \n",
        "#Importamos la libreria numpy\n",
        "import numpy as np\n",
        "\n",
        "A = np.array([[1, 2, 3], [3, 4, 5]])\n",
        "print(A)\n",
        "\n",
        "A = np.array([[1.1, 2, 3], [3, 4, 5]]) # Array of floats\n",
        "print(A)\n",
        "\n",
        "A = np.array([[1, 2, 3], [3, 4, 5]], dtype = complex) # Array of complex numbers\n",
        "print(A)\n",
        "```"
      ],
      "metadata": {
        "id": "inNIXfiD_HE3"
      },
      "id": "inNIXfiD_HE3"
    },
    {
      "cell_type": "code",
      "source": [
        "import numpy as np\n",
        "\n",
        "# Los vectores linealmente independientes (En este ejemplo, tenemos 3 vectores en un espacio 3-dimensional)\n",
        "v1 = np.array([1, 2, 2])\n",
        "v2 = np.array([4, 5, 6])\n",
        "v3 = np.array([7, 8, 9])\n",
        "\n",
        "# El vector que queremos expresar como una combinación lineal de vectores independientes ((0,0,0))\n",
        "target = np.array([0, 0, 0])\n",
        "\n",
        "#Creamos una matriz con los vectores independientes como columnas\n",
        "matrix = np.column_stack((v1, v2, v3))\n",
        "\n",
        "#Resolvemos el sistema lineal para encontrar los coeficientes\n",
        "coefficients = np.linalg.solve(matrix, target)\n",
        "\n",
        "print(\"Coefficients:\", coefficients)\n"
      ],
      "metadata": {
        "colab": {
          "base_uri": "https://localhost:8080/"
        },
        "id": "k9qgs8wqAMX2",
        "outputId": "e8e76c94-c8e8-488f-c27b-3309d1a358ff"
      },
      "id": "k9qgs8wqAMX2",
      "execution_count": 2,
      "outputs": [
        {
          "output_type": "stream",
          "name": "stdout",
          "text": [
            "Coefficients: [ 0.  0. -0.]\n"
          ]
        }
      ]
    },
    {
      "cell_type": "markdown",
      "id": "84a04f1a-cbf7-4e42-9e15-19f303d44654",
      "metadata": {
        "id": "84a04f1a-cbf7-4e42-9e15-19f303d44654"
      },
      "source": [
        "# Independencia Lineal "
      ]
    },
    {
      "cell_type": "markdown",
      "id": "fec2a5d8-3b2b-48be-9181-dd8a70aff7ca",
      "metadata": {
        "id": "fec2a5d8-3b2b-48be-9181-dd8a70aff7ca"
      },
      "source": [
        "## Definición\n",
        "Sea $S = \\{\\textbf{v}_1, \\textbf{v}_2, ...., \\textbf{v}_n \\}$ un conjunto no vacío de vectores. \n",
        "\n",
        "a) Suponga que:\n",
        "\n",
        "$ \\alpha_1 \\textbf{v}_1 + \\alpha_2 \\textbf{v}_2+......+\\alpha_2 \\textbf{v}_n  = \\textbf{0}$ \n",
        "\n",
        "implica que $ \\alpha_1 = \\alpha_2 = ....=\\alpha_n$. Se dice entonces que $\\textbf{S}$ es ***linealmente independiente***\n",
        "\n",
        "b) Un conjunto que no es linealmente independiente se llama ***linealmente dependiente***; análogamente,  $\\textbf{S}$ es linealmente dependiente si y solo si hay escalares $ \\alpha_1 = \\alpha_2 = ....=\\alpha_n$ **NO** todos cero, tales que\n",
        "\n",
        "$ \\alpha_1 \\textbf{v}_1 + \\alpha_2 \\textbf{v}_2+......+\\alpha_2 \\textbf{v}_n  = \\textbf{0}$ "
      ]
    },
    {
      "cell_type": "markdown",
      "id": "55aa3498-cf44-4f50-84fe-4fa3c2167083",
      "metadata": {
        "id": "55aa3498-cf44-4f50-84fe-4fa3c2167083"
      },
      "source": [
        "## Python Code\n",
        "```python \n",
        "#Importamos la libreria numpy\n",
        "import numpy as np\n",
        "\n",
        "# Los vectores linealmente independientes (En este ejemplo, tenemos 3 vectores en un espacio 3-dimensional)\n",
        "v1 = np.array([1, 2, 2])\n",
        "v2 = np.array([4, 5, 6])\n",
        "v3 = np.array([7, 8, 9])\n",
        "\n",
        "# El vector que queremos expresar como una combinación lineal de vectores independientes ((0,0,0))\n",
        "target = np.array([0, 0, 0])\n",
        "\n",
        "#Creamos una matriz con los vectores independientes como columnas\n",
        "matrix = np.column_stack((v1, v2, v3))\n",
        "\n",
        "#Resolvemos el sistema lineal para encontrar los coeficientes\n",
        "coefficients = np.linalg.solve(matrix, target)\n",
        "\n",
        "print(\"Coefficients:\", coefficients)\n",
        "```\n"
      ]
    },
    {
      "cell_type": "code",
      "execution_count": null,
      "id": "26a2ae85-9ec6-4f8e-9c12-9048b2b10a4d",
      "metadata": {
        "id": "26a2ae85-9ec6-4f8e-9c12-9048b2b10a4d",
        "outputId": "a6ff12c3-681c-401c-f77a-84de01785170"
      },
      "outputs": [
        {
          "name": "stdout",
          "output_type": "stream",
          "text": [
            "Coefficients: [ 0.  0. -0.]\n"
          ]
        }
      ],
      "source": [
        "#Importamos la libreria numpy\n",
        "import numpy as np\n",
        "\n",
        "# Los vectores linealmente independientes (En este ejemplo, tenemos 3 vectores en un espacio 3-dimensional)\n",
        "v1 = np.array([1, 2, 2])\n",
        "v2 = np.array([4, 5, 6])\n",
        "v3 = np.array([7, 8, 9])\n",
        "\n",
        "# El vector que queremos expresar como una combinación lineal de vectores independientes ((0,0,0))\n",
        "target = np.array([0, 0, 0])\n",
        "\n",
        "#Creamos una matriz con los vectores independientes como columnas\n",
        "matrix = np.column_stack((v1, v2, v3))\n",
        "\n",
        "#Resolvemos el sistema lineal para encontrar los coeficientes\n",
        "coefficients = np.linalg.solve(matrix, target)\n",
        "\n",
        "print(\"Coefficients:\", coefficients)\n",
        "\n"
      ]
    },
    {
      "cell_type": "markdown",
      "id": "3d0d6bba-5723-4d5d-be9b-68d5e5a49e51",
      "metadata": {
        "id": "3d0d6bba-5723-4d5d-be9b-68d5e5a49e51"
      },
      "source": [
        "## Ejercicios"
      ]
    }
  ],
  "metadata": {
    "kernelspec": {
      "display_name": "Python 3 (ipykernel)",
      "language": "python",
      "name": "python3"
    },
    "language_info": {
      "codemirror_mode": {
        "name": "ipython",
        "version": 3
      },
      "file_extension": ".py",
      "mimetype": "text/x-python",
      "name": "python",
      "nbconvert_exporter": "python",
      "pygments_lexer": "ipython3",
      "version": "3.9.15"
    },
    "colab": {
      "provenance": [],
      "include_colab_link": true
    }
  },
  "nbformat": 4,
  "nbformat_minor": 5
}